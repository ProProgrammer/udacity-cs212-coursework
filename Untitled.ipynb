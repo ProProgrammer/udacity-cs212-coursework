{
 "cells": [
  {
   "cell_type": "code",
   "execution_count": 20,
   "metadata": {},
   "outputs": [
    {
     "name": "stdout",
     "output_type": "stream",
     "text": [
      "2C\n",
      "2S\n",
      "3C\n",
      "3S\n",
      "4C\n",
      "4S\n",
      "5C\n",
      "5S\n",
      "6C\n",
      "6S\n",
      "7C\n",
      "7S\n",
      "8C\n",
      "8S\n",
      "9C\n",
      "9S\n",
      "TC\n",
      "TS\n",
      "JC\n",
      "JS\n",
      "QC\n",
      "QS\n",
      "KC\n",
      "KS\n",
      "AC\n",
      "AS\n"
     ]
    }
   ],
   "source": [
    "import itertools\n",
    "list1 = [\"2\",\"3\",\"4\",\"5\",\"6\",\"7\",\"8\",\"9\",\"T\",\"J\",\"Q\",\"K\",\"A\"]\n",
    "list2 = [\"C\",\"S\"]\n",
    "list3 = [\"D\", \"H\"]\n",
    "for x in (\"\".join(item) for item in list(itertools.product(list1, list2))):\n",
    "    print x"
   ]
  },
  {
   "cell_type": "code",
   "execution_count": null,
   "metadata": {},
   "outputs": [],
   "source": []
  }
 ],
 "metadata": {
  "kernelspec": {
   "display_name": "Python 2",
   "language": "python",
   "name": "python2"
  },
  "language_info": {
   "codemirror_mode": {
    "name": "ipython",
    "version": 2
   },
   "file_extension": ".py",
   "mimetype": "text/x-python",
   "name": "python",
   "nbconvert_exporter": "python",
   "pygments_lexer": "ipython2",
   "version": "2.7.10"
  }
 },
 "nbformat": 4,
 "nbformat_minor": 2
}
