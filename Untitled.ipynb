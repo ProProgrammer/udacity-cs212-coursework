{
 "cells": [
  {
   "cell_type": "code",
   "execution_count": 1,
   "metadata": {},
   "outputs": [
    {
     "name": "stdout",
     "output_type": "stream",
     "text": [
      "2CD\n",
      "2CH\n",
      "2SD\n",
      "2SH\n",
      "3CD\n",
      "3CH\n",
      "3SD\n",
      "3SH\n",
      "4CD\n",
      "4CH\n",
      "4SD\n",
      "4SH\n",
      "5CD\n",
      "5CH\n",
      "5SD\n",
      "5SH\n",
      "6CD\n",
      "6CH\n",
      "6SD\n",
      "6SH\n",
      "7CD\n",
      "7CH\n",
      "7SD\n",
      "7SH\n",
      "8CD\n",
      "8CH\n",
      "8SD\n",
      "8SH\n",
      "9CD\n",
      "9CH\n",
      "9SD\n",
      "9SH\n",
      "TCD\n",
      "TCH\n",
      "TSD\n",
      "TSH\n",
      "JCD\n",
      "JCH\n",
      "JSD\n",
      "JSH\n",
      "QCD\n",
      "QCH\n",
      "QSD\n",
      "QSH\n",
      "KCD\n",
      "KCH\n",
      "KSD\n",
      "KSH\n",
      "ACD\n",
      "ACH\n",
      "ASD\n",
      "ASH\n"
     ]
    }
   ],
   "source": [
    "import itertools\n",
    "rank = [\"2\",\"3\",\"4\",\"5\",\"6\",\"7\",\"8\",\"9\",\"T\",\"J\",\"Q\",\"K\",\"A\"]\n",
    "type_black_wildcard = [\"C\",\"S\"]\n",
    "type_red_wildcard = [\"D\", \"H\"]\n",
    "    \n",
    "# for x in (\"\".join(item) for item in list(itertools.product(rank, type_black_wildcard, type_red_wildcard))):\n",
    "#     print x\n",
    "replacement_red_wildcard = itertools.product(rank, type_red_wildcard)\n",
    "replacement_black_wildcard = itertools.product(rank,type)"
   ]
  },
  {
   "cell_type": "code",
   "execution_count": 2,
   "metadata": {},
   "outputs": [],
   "source": [
    "# ##### Side work #####\n",
    "# best_hand = max(list(best_hand(\"JD TC TH 7C 7D 7S 7H\".split())), key=hand_rank)\n",
    "# best_hand = max(best_hand(\"JD TC TH 7C 7D 7S 7H\".split()), key=hand_rank)\n",
    "# print best_hand\n",
    "# hand = \"TD TC TH 7C 7D 8C 8S\".split()\n",
    "# print sorted(best_hand(hand))\n",
    "# best_hand_sorted_by_card_rank = card_ranks(best_hand)\n",
    "# print best_hand_sorted_by_card_rank"
   ]
  },
  {
   "cell_type": "code",
   "execution_count": 6,
   "metadata": {},
   "outputs": [
    {
     "name": "stdout",
     "output_type": "stream",
     "text": [
      "6C 7C 8C 9C TC 5C ?B\n"
     ]
    }
   ],
   "source": [
    "hand = \"6C 7C 8C 9C TC 5C ?B\"\n",
    "hand.replace(\"?B\", \"one\")\n",
    "print hand"
   ]
  },
  {
   "cell_type": "code",
   "execution_count": 8,
   "metadata": {},
   "outputs": [
    {
     "name": "stdout",
     "output_type": "stream",
     "text": [
      "('6C', '7C', '8C', '9C', 'TC')\n",
      "('6C', '7C', '8C', '9C', '5C')\n",
      "('6C', '7C', '8C', '9C', 'JS')\n",
      "('6C', '7C', '8C', 'TC', '5C')\n",
      "('6C', '7C', '8C', 'TC', 'JS')\n",
      "('6C', '7C', '8C', '5C', 'JS')\n",
      "('6C', '7C', '9C', 'TC', '5C')\n",
      "('6C', '7C', '9C', 'TC', 'JS')\n",
      "('6C', '7C', '9C', '5C', 'JS')\n",
      "('6C', '7C', 'TC', '5C', 'JS')\n",
      "('6C', '8C', '9C', 'TC', '5C')\n",
      "('6C', '8C', '9C', 'TC', 'JS')\n",
      "('6C', '8C', '9C', '5C', 'JS')\n",
      "('6C', '8C', 'TC', '5C', 'JS')\n",
      "('6C', '9C', 'TC', '5C', 'JS')\n",
      "('7C', '8C', '9C', 'TC', '5C')\n",
      "('7C', '8C', '9C', 'TC', 'JS')\n",
      "('7C', '8C', '9C', '5C', 'JS')\n",
      "('7C', '8C', 'TC', '5C', 'JS')\n",
      "('7C', '9C', 'TC', '5C', 'JS')\n",
      "('8C', '9C', 'TC', '5C', 'JS')\n"
     ]
    }
   ],
   "source": [
    "hand = \"6C 7C 8C 9C TC 5C JS\".split()\n",
    "for i in itertools.combinations(hand, 5):\n",
    "    print i"
   ]
  },
  {
   "cell_type": "code",
   "execution_count": 2,
   "metadata": {},
   "outputs": [
    {
     "name": "stdout",
     "output_type": "stream",
     "text": [
      "['7C', '8C', '9C', 'TC', '5C', 'JS']\n"
     ]
    }
   ],
   "source": [
    "hand = \"6C 7C 8C 9C TC 5C JS\".split()\n",
    "hand.remove(\"6C\")\n",
    "print hand"
   ]
  },
  {
   "cell_type": "code",
   "execution_count": 11,
   "metadata": {},
   "outputs": [
    {
     "name": "stdout",
     "output_type": "stream",
     "text": [
      "('2', 'D')\n",
      "('3', 'D')\n"
     ]
    },
    {
     "data": {
      "text/plain": [
       "['2D', '3D']"
      ]
     },
     "execution_count": 11,
     "metadata": {},
     "output_type": "execute_result"
    }
   ],
   "source": [
    "import itertools\n",
    "rank = [\"2\", \"3\"]\n",
    "r_wildcard_replacement_suit = [\"D\"]\n",
    "for item in itertools.product(rank, r_wildcard_replacement_suit):\n",
    "    print item\n",
    "[\"\".join(item) for item in itertools.product(rank, r_wildcard_replacement_suit)]\n",
    "# [\"\".join(item for item in itertools.product(rank, r_wildcard_replacement_suit))]"
   ]
  },
  {
   "cell_type": "code",
   "execution_count": null,
   "metadata": {},
   "outputs": [],
   "source": []
  }
 ],
 "metadata": {
  "kernelspec": {
   "display_name": "Python 2",
   "language": "python",
   "name": "python2"
  },
  "language_info": {
   "codemirror_mode": {
    "name": "ipython",
    "version": 2
   },
   "file_extension": ".py",
   "mimetype": "text/x-python",
   "name": "python",
   "nbconvert_exporter": "python",
   "pygments_lexer": "ipython2",
   "version": "2.7.10"
  }
 },
 "nbformat": 4,
 "nbformat_minor": 2
}
